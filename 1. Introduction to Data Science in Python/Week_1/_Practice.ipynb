{
 "cells": [
  {
   "cell_type": "code",
   "execution_count": 1,
   "id": "dee6d42c-e094-40e6-8427-dc3ca32aae30",
   "metadata": {},
   "outputs": [
    {
     "data": {
      "text/plain": [
       "3"
      ]
     },
     "execution_count": 1,
     "metadata": {},
     "output_type": "execute_result"
    }
   ],
   "source": [
    "x = 1\n",
    "y = 2\n",
    "x+y"
   ]
  },
  {
   "cell_type": "code",
   "execution_count": 2,
   "id": "c36710be-09ef-4007-abd9-df1f8074b056",
   "metadata": {},
   "outputs": [
    {
     "data": {
      "text/plain": [
       "7"
      ]
     },
     "execution_count": 2,
     "metadata": {},
     "output_type": "execute_result"
    }
   ],
   "source": [
    "def add_two_nums(x,y):\n",
    "    return x  + y\n",
    "add_two_nums (3,4)"
   ]
  },
  {
   "cell_type": "code",
   "execution_count": 5,
   "id": "75ae4016-1c6b-437a-b11f-e32da70b2d93",
   "metadata": {},
   "outputs": [
    {
     "data": {
      "text/plain": [
       "11"
      ]
     },
     "execution_count": 5,
     "metadata": {},
     "output_type": "execute_result"
    }
   ],
   "source": [
    "a = add_two_nums \n",
    "a (5,6)"
   ]
  },
  {
   "cell_type": "code",
   "execution_count": 7,
   "id": "2444b79f-b9e2-4186-b85c-27b23b731f52",
   "metadata": {},
   "outputs": [
    {
     "data": {
      "text/plain": [
       "tuple"
      ]
     },
     "execution_count": 7,
     "metadata": {},
     "output_type": "execute_result"
    }
   ],
   "source": [
    "x = (1, \"a\", \"b\", \"2\")\n",
    "type(x)"
   ]
  },
  {
   "cell_type": "code",
   "execution_count": 8,
   "id": "4bc43b3c-0e0b-4318-9f11-87f90dcddb15",
   "metadata": {},
   "outputs": [
    {
     "data": {
      "text/plain": [
       "list"
      ]
     },
     "execution_count": 8,
     "metadata": {},
     "output_type": "execute_result"
    }
   ],
   "source": [
    "x = [1, \"a\", \"b\", \"2\"]\n",
    "type(x)"
   ]
  },
  {
   "cell_type": "code",
   "execution_count": 9,
   "id": "19b9934e-bf0a-479e-8e60-5dd9bf30c292",
   "metadata": {},
   "outputs": [
    {
     "name": "stdout",
     "output_type": "stream",
     "text": [
      "[1, 'a', 'b', '2', 6]\n"
     ]
    }
   ],
   "source": [
    "x.append(6)\n",
    "print (x) "
   ]
  },
  {
   "cell_type": "code",
   "execution_count": 10,
   "id": "a22547ec-8537-419e-b8a6-a48d7f29abfb",
   "metadata": {},
   "outputs": [
    {
     "name": "stdout",
     "output_type": "stream",
     "text": [
      "1\n",
      "a\n",
      "b\n",
      "2\n",
      "6\n"
     ]
    }
   ],
   "source": [
    "for i in x:\n",
    "    print(i)"
   ]
  },
  {
   "cell_type": "code",
   "execution_count": 13,
   "id": "5cb94ce3-130c-47f2-9c69-a1c103772415",
   "metadata": {},
   "outputs": [
    {
     "name": "stdout",
     "output_type": "stream",
     "text": [
      "1\n",
      "a\n",
      "b\n",
      "2\n",
      "6\n"
     ]
    }
   ],
   "source": [
    "i = 0\n",
    "while (i != len(x)):\n",
    "    print(x[i])\n",
    "    i += 1\n"
   ]
  },
  {
   "cell_type": "code",
   "execution_count": 43,
   "id": "6373ee88-7e49-4965-b10c-f94b6e1a4fd0",
   "metadata": {},
   "outputs": [
    {
     "name": "stdout",
     "output_type": "stream",
     "text": [
      "Bella is chis\n",
      "Be\n",
      "a\n",
      "chis\n"
     ]
    }
   ],
   "source": [
    "x = 'Bella is chis'\n",
    "print(x)\n",
    "print(x[:2])\n",
    "print(x[4:5])\n",
    "print(x[-4:])\n",
    "\n"
   ]
  },
  {
   "cell_type": "code",
   "execution_count": 46,
   "id": "c317e593-6930-4767-a2d9-4bbd1f1387ca",
   "metadata": {},
   "outputs": [
    {
     "name": "stdout",
     "output_type": "stream",
     "text": [
      "is\n"
     ]
    }
   ],
   "source": [
    "x  = 'Bella is Chis'.split(' ')[1]\n",
    "print(x)"
   ]
  },
  {
   "cell_type": "markdown",
   "id": "3fa4e173-adcd-402f-b4c1-3073a9c3c5a8",
   "metadata": {},
   "source": [
    "# Reading and Writing CSV files"
   ]
  },
  {
   "cell_type": "code",
   "execution_count": 25,
   "id": "250eac55-4074-43f7-85a2-119b01ff6e1d",
   "metadata": {},
   "outputs": [
    {
     "name": "stdin",
     "output_type": "stream",
     "text": [
      "Weight:  120\n",
      "(K)g or (L)bs:  l\n"
     ]
    },
    {
     "name": "stdout",
     "output_type": "stream",
     "text": [
      "Weight in Kg: 54.431039999999996\n"
     ]
    }
   ],
   "source": [
    "input_weight = float(input(\"Weight: \"))\n",
    "type_weight = input(\"(K)g or (L)bs: \")\n",
    "if type_weight.upper() == \"K\":\n",
    "    result = input_weight * 2.20462\n",
    "    print(\"Weight in Lps: \" + str(result))\n",
    "elif type_weight.upper() == \"L\":\n",
    "    result = input_weight *  0.453592\n",
    "    print(\"Weight in Kg: \" + str(result))\n",
    "else: print(\"Please input correctly\")\n",
    "\n"
   ]
  },
  {
   "cell_type": "code",
   "execution_count": 1,
   "id": "fa33aa3a-aaae-4f33-b4bb-23a0e6b597e1",
   "metadata": {},
   "outputs": [],
   "source": [
    "import numpy as np\n",
    "import math"
   ]
  },
  {
   "cell_type": "code",
   "execution_count": null,
   "id": "41399f41-ba0d-44c9-9872-7d82ffe8d525",
   "metadata": {},
   "outputs": [],
   "source": []
  }
 ],
 "metadata": {
  "kernelspec": {
   "display_name": "Python 3 (ipykernel)",
   "language": "python",
   "name": "python3"
  },
  "language_info": {
   "codemirror_mode": {
    "name": "ipython",
    "version": 3
   },
   "file_extension": ".py",
   "mimetype": "text/x-python",
   "name": "python",
   "nbconvert_exporter": "python",
   "pygments_lexer": "ipython3",
   "version": "3.9.13"
  }
 },
 "nbformat": 4,
 "nbformat_minor": 5
}
